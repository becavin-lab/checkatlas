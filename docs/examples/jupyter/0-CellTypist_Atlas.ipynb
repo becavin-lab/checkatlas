{
 "cells": [
  {
   "cell_type": "markdown",
   "id": "3c659d47-90f2-4d6b-ad07-eaa7293d41c3",
   "metadata": {},
   "source": [
    "# CheckAtlas examples : Evaluate and compare different atlases"
   ]
  },
  {
   "cell_type": "markdown",
   "id": "342c16fb-6dd5-4a72-9514-d814aabb2541",
   "metadata": {},
   "source": [
    "In this example, we show how to run checkatlas in a folder and produce a summary html file. The different atlases are downloaded in Scanpy (.h5ad) format from CellTypist database."
   ]
  },
  {
   "cell_type": "markdown",
   "id": "102fe446-f7b3-4006-a68f-ecc36c8f9da1",
   "metadata": {},
   "source": [
    "WARNING: Install and run only MultiQC from https://github.com/becavin-lab/MultiQC/tree/checkatlas. Otherwise checkatlas files will not be taken into account."
   ]
  },
  {
   "cell_type": "markdown",
   "id": "ace8c60b-ab25-46d8-bce3-192529cbd691",
   "metadata": {},
   "source": [
    "## Download datasets"
   ]
  },
  {
   "cell_type": "markdown",
   "id": "6f3d11cf-7b4f-4db7-aa74-6341547f95a1",
   "metadata": {},
   "source": [
    "Datasets are downloaded from the CellTypist server. \n",
    "https://www.celltypist.org/organs\n",
    "\n",
    "This might takes few minutes."
   ]
  },
  {
   "cell_type": "code",
   "execution_count": 1,
   "id": "e378f573",
   "metadata": {},
   "outputs": [],
   "source": [
    "# Dict of organs and download websites\n",
    "dict_atlas = {\n",
    "    \"Blood\": \"https://celltypist.cog.sanger.ac.uk/Resources/Organ_atlas/Blood/Blood.h5ad\",\n",
    "    \"Bone_Marrow\": \"https://celltypist.cog.sanger.ac.uk/Resources/Organ_atlas/Bone_marrow/Bone_marrow.h5ad\",\n",
    "    \"Heart\": \"https://celltypist.cog.sanger.ac.uk/Resources/Organ_atlas/Heart/Heart.h5ad\",\n",
    "    \"Hippocampus\": \"https://celltypist.cog.sanger.ac.uk/Resources/Organ_atlas/Hippocampus/Hippocampus.h5ad\",\n",
    "    \"Intestine\": \"https://celltypist.cog.sanger.ac.uk/Resources/Organ_atlas/Intestine/Intestine.h5ad\",\n",
    "    \"Kidney\": \"https://celltypist.cog.sanger.ac.uk/Resources/Organ_atlas/Kidney/Kidney.h5ad\",\n",
    "    \"Liver\": \"https://celltypist.cog.sanger.ac.uk/Resources/Organ_atlas/Liver/Liver.h5ad\",\n",
    "    \"Lung\": \"https://celltypist.cog.sanger.ac.uk/Resources/Organ_atlas/Lung/Lung.h5ad\",\n",
    "    \"Lymph_node\": \"https://celltypist.cog.sanger.ac.uk/Resources/Organ_atlas/Lymph_node/Lymph_node.h5ad\",\n",
    "    \"Pancreas\": \"https://celltypist.cog.sanger.ac.uk/Resources/Organ_atlas/Pancreas/Pancreas.h5ad\",\n",
    "    \"Skeletal_Muscle\": \"https://celltypist.cog.sanger.ac.uk/Resources/Organ_atlas/Skeletal_muscle/Skeletal_muscle.h5ad\",\n",
    "    \"Spleen\": \"https://celltypist.cog.sanger.ac.uk/Resources/Organ_atlas/Spleen/Spleen.h5ad\",\n",
    "}"
   ]
  },
  {
   "cell_type": "code",
   "execution_count": 3,
   "id": "686bdf62",
   "metadata": {},
   "outputs": [],
   "source": [
    "import os\n",
    "\n",
    "data_path = \"/data/analysis/data_becavin/checkatlas_test/tuto/atlas_data\"\n",
    "os.mkdir(data_path)\n",
    "os.chdir(data_path)"
   ]
  },
  {
   "cell_type": "code",
   "execution_count": 8,
   "id": "4a4f4680",
   "metadata": {},
   "outputs": [
    {
     "name": "stdout",
     "output_type": "stream",
     "text": [
      "/data/analysis/data_becavin/checkatlas_test/tuto/atlas_data\n",
      "Download ['curl', '-o', 'Blood.h5ad', 'https://celltypist.cog.sanger.ac.uk/Resources/Organ_atlas/Blood/Blood.h5ad']\n"
     ]
    },
    {
     "name": "stderr",
     "output_type": "stream",
     "text": [
      "  % Total    % Received % Xferd  Average Speed   Time    Time     Time  Current\n",
      "                                 Dload  Upload   Total   Spent    Left  Speed\n",
      "100 2417M  100 2417M    0     0  97.8M      0  0:00:24  0:00:24 --:--:-- 99.1M\n",
      "  % Total    % Received % Xferd  Average Speed   Time    Time     Time  Current\n",
      "                                 Dload  Upload   Total   Spent    Left  Speed\n",
      "  0     0    0     0    0     0      0      0 --:--:-- --:--:-- --:--:--     0"
     ]
    },
    {
     "name": "stdout",
     "output_type": "stream",
     "text": [
      "Download ['curl', '-o', 'Bone_Marrow.h5ad', 'https://celltypist.cog.sanger.ac.uk/Resources/Organ_atlas/Bone_marrow/Bone_marrow.h5ad']\n"
     ]
    },
    {
     "name": "stderr",
     "output_type": "stream",
     "text": [
      "100  683M  100  683M    0     0  97.8M      0  0:00:06  0:00:06 --:--:--  103M\n",
      "  % Total    % Received % Xferd  Average Speed   Time    Time     Time  Current\n",
      "                                 Dload  Upload   Total   Spent    Left  Speed\n",
      "  0     0    0     0    0     0      0      0 --:--:-- --:--:-- --:--:--     0"
     ]
    },
    {
     "name": "stdout",
     "output_type": "stream",
     "text": [
      "Download ['curl', '-o', 'Heart.h5ad', 'https://celltypist.cog.sanger.ac.uk/Resources/Organ_atlas/Heart/Heart.h5ad']\n"
     ]
    },
    {
     "name": "stderr",
     "output_type": "stream",
     "text": [
      "100 5693M  100 5693M    0     0   101M      0  0:00:56  0:00:56 --:--:--  103M\n",
      "  % Total    % Received % Xferd  Average Speed   Time    Time     Time  Current\n",
      "                                 Dload  Upload   Total   Spent    Left  Speed\n",
      "  0     0    0     0    0     0      0      0 --:--:-- --:--:-- --:--:--     0"
     ]
    },
    {
     "name": "stdout",
     "output_type": "stream",
     "text": [
      "Download ['curl', '-o', 'Hippocampus.h5ad', 'https://celltypist.cog.sanger.ac.uk/Resources/Organ_atlas/Hippocampus/Hippocampus.h5ad']\n"
     ]
    },
    {
     "name": "stderr",
     "output_type": "stream",
     "text": [
      "100 14.1G  100 14.1G    0     0  99.3M      0  0:02:26  0:02:26 --:--:--  100M\n",
      "  % Total    % Received % Xferd  Average Speed   Time    Time     Time  Current\n",
      "                                 Dload  Upload   Total   Spent    Left  Speed\n",
      "  0     0    0     0    0     0      0      0 --:--:-- --:--:-- --:--:--     0"
     ]
    },
    {
     "name": "stdout",
     "output_type": "stream",
     "text": [
      "Download ['curl', '-o', 'Intestine.h5ad', 'https://celltypist.cog.sanger.ac.uk/Resources/Organ_atlas/Intestine/Intestine.h5ad']\n"
     ]
    },
    {
     "name": "stderr",
     "output_type": "stream",
     "text": [
      "100 1663M  100 1663M    0     0  97.3M      0  0:00:17  0:00:17 --:--:--  100M\n",
      "  % Total    % Received % Xferd  Average Speed   Time    Time     Time  Current\n",
      "                                 Dload  Upload   Total   Spent    Left  Speed\n",
      "  0     0    0     0    0     0      0      0 --:--:-- --:--:-- --:--:--     0"
     ]
    },
    {
     "name": "stdout",
     "output_type": "stream",
     "text": [
      "Download ['curl', '-o', 'Kidney.h5ad', 'https://celltypist.cog.sanger.ac.uk/Resources/Organ_atlas/Kidney/Kidney.h5ad']\n"
     ]
    },
    {
     "name": "stderr",
     "output_type": "stream",
     "text": [
      "100 1514M  100 1514M    0     0  99.6M      0  0:00:15  0:00:15 --:--:--  102M\n",
      "  % Total    % Received % Xferd  Average Speed   Time    Time     Time  Current\n",
      "                                 Dload  Upload   Total   Spent    Left  Speed\n",
      "  0 1910M    0     0    0     0      0      0 --:--:-- --:--:-- --:--:--     0"
     ]
    },
    {
     "name": "stdout",
     "output_type": "stream",
     "text": [
      "Download ['curl', '-o', 'Liver.h5ad', 'https://celltypist.cog.sanger.ac.uk/Resources/Organ_atlas/Liver/Liver.h5ad']\n"
     ]
    },
    {
     "name": "stderr",
     "output_type": "stream",
     "text": [
      "100 1910M  100 1910M    0     0  79.1M      0  0:00:24  0:00:24 --:--:-- 69.5M\n",
      "  % Total    % Received % Xferd  Average Speed   Time    Time     Time  Current\n",
      "                                 Dload  Upload   Total   Spent    Left  Speed\n",
      "  0     0    0     0    0     0      0      0 --:--:-- --:--:-- --:--:--     0"
     ]
    },
    {
     "name": "stdout",
     "output_type": "stream",
     "text": [
      "Download ['curl', '-o', 'Lung.h5ad', 'https://celltypist.cog.sanger.ac.uk/Resources/Organ_atlas/Lung/Lung.h5ad']\n"
     ]
    },
    {
     "name": "stderr",
     "output_type": "stream",
     "text": [
      "100 3377M  100 3377M    0     0  97.8M      0  0:00:34  0:00:34 --:--:-- 95.9M\n",
      "  % Total    % Received % Xferd  Average Speed   Time    Time     Time  Current\n",
      "                                 Dload  Upload   Total   Spent    Left  Speed\n",
      "  0     0    0     0    0     0      0      0 --:--:-- --:--:-- --:--:--     0"
     ]
    },
    {
     "name": "stdout",
     "output_type": "stream",
     "text": [
      "Download ['curl', '-o', 'Lymph_node.h5ad', 'https://celltypist.cog.sanger.ac.uk/Resources/Organ_atlas/Lymph_node/Lymph_node.h5ad']\n"
     ]
    },
    {
     "name": "stderr",
     "output_type": "stream",
     "text": [
      "100  991M  100  991M    0     0  98.8M      0  0:00:10  0:00:10 --:--:--  101M\n",
      "  % Total    % Received % Xferd  Average Speed   Time    Time     Time  Current\n",
      "                                 Dload  Upload   Total   Spent    Left  Speed\n",
      "  0     0    0     0    0     0      0      0 --:--:-- --:--:-- --:--:--     0"
     ]
    },
    {
     "name": "stdout",
     "output_type": "stream",
     "text": [
      "Download ['curl', '-o', 'Pancreas.h5ad', 'https://celltypist.cog.sanger.ac.uk/Resources/Organ_atlas/Pancreas/Pancreas.h5ad']\n"
     ]
    },
    {
     "name": "stderr",
     "output_type": "stream",
     "text": [
      "100  891M  100  891M    0     0  98.2M      0  0:00:09  0:00:09 --:--:--  101M\n",
      "  % Total    % Received % Xferd  Average Speed   Time    Time     Time  Current\n",
      "                                 Dload  Upload   Total   Spent    Left  Speed\n",
      "  0     0    0     0    0     0      0      0 --:--:-- --:--:-- --:--:--     0"
     ]
    },
    {
     "name": "stdout",
     "output_type": "stream",
     "text": [
      "Download ['curl', '-o', 'Skeletal_Muscle.h5ad', 'https://celltypist.cog.sanger.ac.uk/Resources/Organ_atlas/Skeletal_muscle/Skeletal_muscle.h5ad']\n"
     ]
    },
    {
     "name": "stderr",
     "output_type": "stream",
     "text": [
      "100 1301M  100 1301M    0     0  94.3M      0  0:00:13  0:00:13 --:--:-- 91.4M\n",
      "  % Total    % Received % Xferd  Average Speed   Time    Time     Time  Current\n",
      "                                 Dload  Upload   Total   Spent    Left  Speed\n",
      "  0     0    0     0    0     0      0      0 --:--:-- --:--:-- --:--:--     0"
     ]
    },
    {
     "name": "stdout",
     "output_type": "stream",
     "text": [
      "Download ['curl', '-o', 'Spleen.h5ad', 'https://celltypist.cog.sanger.ac.uk/Resources/Organ_atlas/Spleen/Spleen.h5ad']\n"
     ]
    },
    {
     "name": "stderr",
     "output_type": "stream",
     "text": [
      "100 1636M  100 1636M    0     0   101M      0  0:00:16  0:00:16 --:--:--  103M\n"
     ]
    }
   ],
   "source": [
    "# Go through dict and download atlas\n",
    "import subprocess\n",
    "\n",
    "print(os.getcwd())\n",
    "for name, url in dict_atlas.items():\n",
    "    cmd_line = [\"curl\", \"-o\", f\"{name}.h5ad\", url]\n",
    "    print(\"Download\", cmd_line)\n",
    "    subprocess.run(cmd_line)"
   ]
  },
  {
   "cell_type": "markdown",
   "id": "c14cc3fb-baf9-41e0-a67d-f9c71a74a83c",
   "metadata": {},
   "source": [
    "## Run checkatlas"
   ]
  },
  {
   "cell_type": "markdown",
   "id": "79160a86-109d-41c3-b471-cda6b64cea97",
   "metadata": {},
   "source": [
    "If checkatlas is installed in your environment, you just need to run this cell. \n",
    "\n",
    "This will produce all metric tables and figures needed."
   ]
  },
  {
   "cell_type": "code",
   "execution_count": 10,
   "id": "c9b0083a-2647-457e-b1f4-5678b9d18474",
   "metadata": {},
   "outputs": [
    {
     "name": "stdout",
     "output_type": "stream",
     "text": [
      "N E X T F L O W  ~  version 23.04.1\n",
      "Launching `https://github.com/becavin-lab/nf-core-checkatlas` [clever_bassi] DSL2 - revision: 4bac1966e5 [dev]\n",
      "Downloading plugin nf-validation@1.1.3\n",
      "WARN: Access to undefined parameter `monochromeLogs` -- Initialise it to a default value eg. `params.monochromeLogs = some_value`\n",
      "\n",
      "\n",
      "------------------------------------------------------\n",
      "                                        ,--./,-.\n",
      "        ___     __   __   __   ___     /,-._.--~'\n",
      "  |\\ | |__  __ /  ` /  \\ |__) |__         }  {\n",
      "  | \\| |       \\__, \\__/ |  \\ |___     \\`-._,-`-,\n",
      "                                        `._,._,'\n",
      "  nf-core/checkatlas v1.0dev-g4bac196\n",
      "------------------------------------------------------\n",
      "Core Nextflow options\n",
      "  revision   : dev\n",
      "  runName    : clever_bassi\n",
      "  launchDir  : /data/analysis/data_becavin/checkatlas_test/tuto/atlas_data\n",
      "  workDir    : /data/analysis/data_becavin/checkatlas_test/tuto/atlas_data/work\n",
      "  projectDir : /home/becavin/.nextflow/assets/becavin-lab/nf-core-checkatlas\n",
      "  userName   : becavin\n",
      "  profile    : standard\n",
      "  configFiles: \n",
      "\n",
      "Input/output options\n",
      "  path       : /data/analysis/data_becavin/checkatlas_test/tuto/atlas_data1\n",
      "  outdir     : null\n",
      "\n",
      "!! Only displaying parameters that differ from the pipeline defaults !!\n",
      "------------------------------------------------------\n",
      "If you use nf-core/checkatlas for your analysis please cite:\n",
      "\n",
      "* The nf-core framework\n",
      "  https://doi.org/10.1038/s41587-020-0439-x\n",
      "\n",
      "* Software dependencies\n",
      "  https://github.com/nf-core/checkatlas/blob/master/CITATIONS.md\n",
      "\n",
      "[-        ] process > NFCORE_CHECKATLAS:CHECKATLA... -\n",
      "[-        ] process > NFCORE_CHECKATLAS:CHECKATLA... -\n",
      "[-        ] process > NFCORE_CHECKATLAS:CHECKATLA... -\n",
      "[-        ] process > NFCORE_CHECKATLAS:CHECKATLA... -\n",
      "[-        ] process > NFCORE_CHECKATLAS:CHECKATLA... -\n",
      "[-        ] process > NFCORE_CHECKATLAS:CHECKATLA... -\n",
      "[-        ] process > NFCORE_CHECKATLAS:CHECKATLA... -\n",
      "[-        ] process > NFCORE_CHECKATLAS:CHECKATLA... -\n",
      "[-        ] process > NFCORE_CHECKATLAS:CHECKATLA... -\n",
      "[-        ] process > NFCORE_CHECKATLAS:CHECKATLA... -\n",
      "[-        ] process > NFCORE_CHECKATLAS:CHECKATLA... -\n",
      "[-        ] process > NFCORE_CHECKATLAS:CHECKATLA... -\n",
      "[-        ] process > NFCORE_CHECKATLAS:CHECKATLA... -\n",
      "[-        ] process > NFCORE_CHECKATLAS:CHECKATLA... -\n",
      "[-        ] process > NFCORE_CHECKATLAS:CHECKATLA... -\n",
      "[-        ] process > NFCORE_CHECKATLAS:CHECKATLA... -\n",
      "[-        ] process > NFCORE_CHECKATLAS:CHECKATLA... -\n",
      "[-        ] process > NFCORE_CHECKATLAS:CHECKATLA... -\n",
      "\n",
      "[-        ] process > NFCORE_CHECKATLAS:CHECKATLA... -\n",
      "[-        ] process > NFCORE_CHECKATLAS:CHECKATLA... -\n",
      "[-        ] process > NFCORE_CHECKATLAS:CHECKATLA... -\n",
      "[-        ] process > NFCORE_CHECKATLAS:CHECKATLA... -\n",
      "[-        ] process > NFCORE_CHECKATLAS:CHECKATLA... -\n",
      "[-        ] process > NFCORE_CHECKATLAS:CHECKATLA... -\n",
      "[-        ] process > NFCORE_CHECKATLAS:CHECKATLA... -\n",
      "[-        ] process > NFCORE_CHECKATLAS:CHECKATLA... -\n",
      "[-        ] process > NFCORE_CHECKATLAS:CHECKATLA... -\n",
      "[-        ] process > NFCORE_CHECKATLAS:CHECKATLA... -\n",
      "[-        ] process > NFCORE_CHECKATLAS:CHECKATLA... -\n",
      "[-        ] process > NFCORE_CHECKATLAS:CHECKATLA... -\n",
      "[-        ] process > NFCORE_CHECKATLAS:CHECKATLA... -\n",
      "[-        ] process > NFCORE_CHECKATLAS:CHECKATLA... -\n",
      "[-        ] process > NFCORE_CHECKATLAS:CHECKATLA... -\n",
      "[-        ] process > NFCORE_CHECKATLAS:CHECKATLA... -\n",
      "[-        ] process > NFCORE_CHECKATLAS:CHECKATLA... -\n",
      "[-        ] process > NFCORE_CHECKATLAS:CHECKATLA... -\n",
      "[-        ] process > NFCORE_CHECKATLAS:CHECKATLA... -\n",
      "[-        ] process > NFCORE_CHECKATLAS:CHECKATLA... -\n",
      "[-        ] process > NFCORE_CHECKATLAS:CHECKATLA... -\n",
      "[-        ] process > NFCORE_CHECKATLAS:CHECKATLA... -\n",
      "\n",
      "executor >  local (3)\n",
      "[f7/24fca1] process > NFCORE_CHECKATLAS:CHECKATLA... [  0%] 0 of 1\n",
      "[-        ] process > NFCORE_CHECKATLAS:CHECKATLA... -\n",
      "[-        ] process > NFCORE_CHECKATLAS:CHECKATLA... -\n",
      "[-        ] process > NFCORE_CHECKATLAS:CHECKATLA... -\n",
      "[-        ] process > NFCORE_CHECKATLAS:CHECKATLA... -\n",
      "[-        ] process > NFCORE_CHECKATLAS:CHECKATLA... -\n",
      "[9a/f232b5] process > NFCORE_CHECKATLAS:CHECKATLA... [  0%] 0 of 1\n",
      "[-        ] process > NFCORE_CHECKATLAS:CHECKATLA... -\n",
      "[-        ] process > NFCORE_CHECKATLAS:CHECKATLA... -\n",
      "[-        ] process > NFCORE_CHECKATLAS:CHECKATLA... -\n",
      "[-        ] process > NFCORE_CHECKATLAS:CHECKATLA... -\n",
      "[-        ] process > NFCORE_CHECKATLAS:CHECKATLA... -\n",
      "[f1/e05280] process > NFCORE_CHECKATLAS:CHECKATLA... [  0%] 0 of 1\n",
      "[-        ] process > NFCORE_CHECKATLAS:CHECKATLA... -\n",
      "[-        ] process > NFCORE_CHECKATLAS:CHECKATLA... -\n",
      "[-        ] process > NFCORE_CHECKATLAS:CHECKATLA... -\n",
      "[-        ] process > NFCORE_CHECKATLAS:CHECKATLA... -\n",
      "[-        ] process > NFCORE_CHECKATLAS:CHECKATLA... -\n",
      "[-        ] process > NFCORE_CHECKATLAS:CHECKATLA... -\n",
      "[-        ] process > NFCORE_CHECKATLAS:CHECKATLA... -\n",
      "[-        ] process > NFCORE_CHECKATLAS:CHECKATLA... -\n",
      "[-        ] process > NFCORE_CHECKATLAS:CHECKATLA... -\n",
      "\n",
      "executor >  local (3)\n",
      "[f7/24fca1] process > NFCORE_CHECKATLAS:CHECKATLA... [  0%] 0 of 1\n",
      "[-        ] process > NFCORE_CHECKATLAS:CHECKATLA... -\n",
      "[-        ] process > NFCORE_CHECKATLAS:CHECKATLA... -\n",
      "[-        ] process > NFCORE_CHECKATLAS:CHECKATLA... -\n",
      "[-        ] process > NFCORE_CHECKATLAS:CHECKATLA... -\n",
      "[-        ] process > NFCORE_CHECKATLAS:CHECKATLA... -\n",
      "[9a/f232b5] process > NFCORE_CHECKATLAS:CHECKATLA... [  0%] 0 of 1\n",
      "[-        ] process > NFCORE_CHECKATLAS:CHECKATLA... -\n",
      "[-        ] process > NFCORE_CHECKATLAS:CHECKATLA... -\n",
      "[-        ] process > NFCORE_CHECKATLAS:CHECKATLA... -\n",
      "[-        ] process > NFCORE_CHECKATLAS:CHECKATLA... -\n",
      "[-        ] process > NFCORE_CHECKATLAS:CHECKATLA... -\n",
      "[f1/e05280] process > NFCORE_CHECKATLAS:CHECKATLA... [  0%] 0 of 1\n",
      "[-        ] process > NFCORE_CHECKATLAS:CHECKATLA... -\n",
      "[-        ] process > NFCORE_CHECKATLAS:CHECKATLA... -\n",
      "[-        ] process > NFCORE_CHECKATLAS:CHECKATLA... -\n",
      "[-        ] process > NFCORE_CHECKATLAS:CHECKATLA... -\n",
      "[-        ] process > NFCORE_CHECKATLAS:CHECKATLA... -\n",
      "[-        ] process > NFCORE_CHECKATLAS:CHECKATLA... -\n",
      "[-        ] process > NFCORE_CHECKATLAS:CHECKATLA... -\n",
      "[-        ] process > NFCORE_CHECKATLAS:CHECKATLA... -\n",
      "[-        ] process > NFCORE_CHECKATLAS:CHECKATLA... -\n",
      "\n",
      "executor >  local (3)\n",
      "[f7/24fca1] process > NFCORE_CHECKATLAS:CHECKATLA... [  0%] 0 of 1\n",
      "[-        ] process > NFCORE_CHECKATLAS:CHECKATLA... -\n",
      "[-        ] process > NFCORE_CHECKATLAS:CHECKATLA... -\n",
      "[-        ] process > NFCORE_CHECKATLAS:CHECKATLA... -\n",
      "[-        ] process > NFCORE_CHECKATLAS:CHECKATLA... -\n",
      "[-        ] process > NFCORE_CHECKATLAS:CHECKATLA... -\n",
      "[9a/f232b5] process > NFCORE_CHECKATLAS:CHECKATLA... [  0%] 0 of 1\n",
      "[-        ] process > NFCORE_CHECKATLAS:CHECKATLA... -\n",
      "[-        ] process > NFCORE_CHECKATLAS:CHECKATLA... -\n",
      "[-        ] process > NFCORE_CHECKATLAS:CHECKATLA... -\n",
      "[-        ] process > NFCORE_CHECKATLAS:CHECKATLA... -\n",
      "[-        ] process > NFCORE_CHECKATLAS:CHECKATLA... -\n",
      "[f1/e05280] process > NFCORE_CHECKATLAS:CHECKATLA... [  0%] 0 of 1\n",
      "[-        ] process > NFCORE_CHECKATLAS:CHECKATLA... -\n",
      "[-        ] process > NFCORE_CHECKATLAS:CHECKATLA... -\n",
      "[-        ] process > NFCORE_CHECKATLAS:CHECKATLA... -\n",
      "[-        ] process > NFCORE_CHECKATLAS:CHECKATLA... -\n",
      "[-        ] process > NFCORE_CHECKATLAS:CHECKATLA... -\n",
      "[-        ] process > NFCORE_CHECKATLAS:CHECKATLA... -\n",
      "[-        ] process > NFCORE_CHECKATLAS:CHECKATLA... -\n",
      "[-        ] process > NFCORE_CHECKATLAS:CHECKATLA... -\n",
      "[-        ] process > NFCORE_CHECKATLAS:CHECKATLA... -\n",
      "ERROR ~ Error executing process > 'NFCORE_CHECKATLAS:CHECKATLAS:LIST_SEURAT_ATLASES'\n",
      "\n",
      "Caused by:\n",
      "  Process `NFCORE_CHECKATLAS:CHECKATLAS:LIST_SEURAT_ATLASES` terminated with an error exit status (1)\n",
      "\n",
      "Command executed:\n",
      "\n",
      "  checkatlas-workflow list_seurat /data/analysis/data_becavin/checkatlas_test/tuto/atlas_data1\n",
      "  # copy List .csv to put them iin the scope of nextflow \n",
      "  cp /data/analysis/data_becavin/checkatlas_test/tuto/atlas_data1/checkatlas_files/List_seurat.csv List_seurat.csv\n",
      "  \n",
      "  cat <<-END_VERSIONS > versions.yml\n",
      "  \"NFCORE_CHECKATLAS:CHECKATLAS:LIST_SEURAT_ATLASES\":\n",
      "      checkatlas: $(checkatlas --version | sed 's/Checkatlas, version //g')\n",
      "  END_VERSIONS\n",
      "\n",
      "Command exit status:\n",
      "  1\n",
      "\n",
      "Command output:\n",
      "  (empty)\n",
      "\n",
      "Command error:\n",
      "  Traceback (most recent call last):\n",
      "    File \"/home/becavin/.conda/envs/cb_checkatlas/bin/checkatlas-workflow\", line 8, in <module>\n",
      "      sys.exit(main())\n",
      "    File \"/home/becavin/.conda/envs/cb_checkatlas/lib/python3.10/site-packages/checkatlas/checkatlas_workflow.py\", line 66, in main\n",
      "      folders.checkatlas_folders(args.path)\n",
      "    File \"/home/becavin/.conda/envs/cb_checkatlas/lib/python3.10/site-packages/checkatlas/utils/folders.py\", line 79, in checkatlas_folders\n",
      "      os.mkdir(global_path)\n",
      "  FileNotFoundError: [Errno 2] Aucun fichier ou dossier de ce type: '/data/analysis/data_becavin/checkatlas_test/tuto/atlas_data1/checkatlas_files'\n",
      "\n",
      "Work dir:\n",
      "  /data/analysis/data_becavin/checkatlas_test/tuto/atlas_data/work/f1/e05280e185b30b5d59fc1549162c12\n",
      "\n",
      "Tip: when you have fixed the problem you can continue the execution adding the option `-resume` to the run command line\n",
      "\n",
      " -- Check '.nextflow.log' file for details\n",
      "WARN: Killing running tasks (2)\n",
      "\n",
      "executor >  local (3)\n",
      "[-        ] process > NFCORE_CHECKATLAS:CHECKATLA... -\n",
      "[-        ] process > NFCORE_CHECKATLAS:CHECKATLA... -\n",
      "[-        ] process > NFCORE_CHECKATLAS:CHECKATLA... -\n",
      "[-        ] process > NFCORE_CHECKATLAS:CHECKATLA... -\n",
      "[-        ] process > NFCORE_CHECKATLAS:CHECKATLA... -\n",
      "[-        ] process > NFCORE_CHECKATLAS:CHECKATLA... -\n",
      "[-        ] process > NFCORE_CHECKATLAS:CHECKATLA... -\n",
      "[-        ] process > NFCORE_CHECKATLAS:CHECKATLA... -\n",
      "[-        ] process > NFCORE_CHECKATLAS:CHECKATLA... -\n",
      "[-        ] process > NFCORE_CHECKATLAS:CHECKATLA... -\n",
      "[-        ] process > NFCORE_CHECKATLAS:CHECKATLA... -\n",
      "[-        ] process > NFCORE_CHECKATLAS:CHECKATLA... -\n",
      "[f1/e05280] process > NFCORE_CHECKATLAS:CHECKATLA... [100%] 1 of 1, failed: 1 ✘\n",
      "[-        ] process > NFCORE_CHECKATLAS:CHECKATLA... -\n",
      "[-        ] process > NFCORE_CHECKATLAS:CHECKATLA... -\n",
      "[-        ] process > NFCORE_CHECKATLAS:CHECKATLA... -\n",
      "[-        ] process > NFCORE_CHECKATLAS:CHECKATLA... -\n",
      "[-        ] process > NFCORE_CHECKATLAS:CHECKATLA... -\n",
      "[-        ] process > NFCORE_CHECKATLAS:CHECKATLA... -\n",
      "[-        ] process > NFCORE_CHECKATLAS:CHECKATLA... -\n",
      "[-        ] process > NFCORE_CHECKATLAS:CHECKATLA... -\n",
      "[-        ] process > NFCORE_CHECKATLAS:CHECKATLA... -\n",
      "ERROR ~ Error executing process > 'NFCORE_CHECKATLAS:CHECKATLAS:LIST_SEURAT_ATLASES'\n",
      "\n",
      "Caused by:\n",
      "  Process `NFCORE_CHECKATLAS:CHECKATLAS:LIST_SEURAT_ATLASES` terminated with an error exit status (1)\n",
      "\n",
      "Command executed:\n",
      "\n",
      "  checkatlas-workflow list_seurat /data/analysis/data_becavin/checkatlas_test/tuto/atlas_data1\n",
      "  # copy List .csv to put them iin the scope of nextflow \n",
      "  cp /data/analysis/data_becavin/checkatlas_test/tuto/atlas_data1/checkatlas_files/List_seurat.csv List_seurat.csv\n",
      "  \n",
      "  cat <<-END_VERSIONS > versions.yml\n",
      "  \"NFCORE_CHECKATLAS:CHECKATLAS:LIST_SEURAT_ATLASES\":\n",
      "      checkatlas: $(checkatlas --version | sed 's/Checkatlas, version //g')\n",
      "  END_VERSIONS\n",
      "\n",
      "Command exit status:\n",
      "  1\n",
      "\n",
      "Command output:\n",
      "  (empty)\n",
      "\n",
      "Command error:\n",
      "  Traceback (most recent call last):\n",
      "    File \"/home/becavin/.conda/envs/cb_checkatlas/bin/checkatlas-workflow\", line 8, in <module>\n",
      "      sys.exit(main())\n",
      "    File \"/home/becavin/.conda/envs/cb_checkatlas/lib/python3.10/site-packages/checkatlas/checkatlas_workflow.py\", line 66, in main\n",
      "      folders.checkatlas_folders(args.path)\n",
      "    File \"/home/becavin/.conda/envs/cb_checkatlas/lib/python3.10/site-packages/checkatlas/utils/folders.py\", line 79, in checkatlas_folders\n",
      "      os.mkdir(global_path)\n",
      "  FileNotFoundError: [Errno 2] Aucun fichier ou dossier de ce type: '/data/analysis/data_becavin/checkatlas_test/tuto/atlas_data1/checkatlas_files'\n",
      "\n",
      "Work dir:\n",
      "  /data/analysis/data_becavin/checkatlas_test/tuto/atlas_data/work/f1/e05280e185b30b5d59fc1549162c12\n",
      "\n",
      "Tip: when you have fixed the problem you can continue the execution adding the option `-resume` to the run command line\n",
      "\n",
      " -- Check '.nextflow.log' file for details\n",
      "\n"
     ]
    },
    {
     "ename": "CalledProcessError",
     "evalue": "Command 'b'nextflow run nf-core-checkatlas -r dev --path /data/analysis/data_becavin/checkatlas_test/tuto/atlas_data1\\n'' returned non-zero exit status 1.",
     "output_type": "error",
     "traceback": [
      "\u001b[0;31m---------------------------------------------------------------------------\u001b[0m",
      "\u001b[0;31mCalledProcessError\u001b[0m                        Traceback (most recent call last)",
      "Cell \u001b[0;32mIn[10], line 1\u001b[0m\n\u001b[0;32m----> 1\u001b[0m \u001b[43mget_ipython\u001b[49m\u001b[43m(\u001b[49m\u001b[43m)\u001b[49m\u001b[38;5;241;43m.\u001b[39;49m\u001b[43mrun_cell_magic\u001b[49m\u001b[43m(\u001b[49m\u001b[38;5;124;43m'\u001b[39;49m\u001b[38;5;124;43mbash\u001b[39;49m\u001b[38;5;124;43m'\u001b[39;49m\u001b[43m,\u001b[49m\u001b[43m \u001b[49m\u001b[38;5;124;43m'\u001b[39;49m\u001b[38;5;124;43m'\u001b[39;49m\u001b[43m,\u001b[49m\u001b[43m \u001b[49m\u001b[38;5;124;43m'\u001b[39;49m\u001b[38;5;124;43mnextflow run nf-core-checkatlas -r dev --path /data/analysis/data_becavin/checkatlas_test/tuto/atlas_data1\u001b[39;49m\u001b[38;5;130;43;01m\\n\u001b[39;49;00m\u001b[38;5;124;43m'\u001b[39;49m\u001b[43m)\u001b[49m\n",
      "File \u001b[0;32m~/.conda/envs/cb_checkatlas/lib/python3.10/site-packages/IPython/core/interactiveshell.py:2478\u001b[0m, in \u001b[0;36mInteractiveShell.run_cell_magic\u001b[0;34m(self, magic_name, line, cell)\u001b[0m\n\u001b[1;32m   2476\u001b[0m \u001b[38;5;28;01mwith\u001b[39;00m \u001b[38;5;28mself\u001b[39m\u001b[38;5;241m.\u001b[39mbuiltin_trap:\n\u001b[1;32m   2477\u001b[0m     args \u001b[38;5;241m=\u001b[39m (magic_arg_s, cell)\n\u001b[0;32m-> 2478\u001b[0m     result \u001b[38;5;241m=\u001b[39m \u001b[43mfn\u001b[49m\u001b[43m(\u001b[49m\u001b[38;5;241;43m*\u001b[39;49m\u001b[43margs\u001b[49m\u001b[43m,\u001b[49m\u001b[43m \u001b[49m\u001b[38;5;241;43m*\u001b[39;49m\u001b[38;5;241;43m*\u001b[39;49m\u001b[43mkwargs\u001b[49m\u001b[43m)\u001b[49m\n\u001b[1;32m   2480\u001b[0m \u001b[38;5;66;03m# The code below prevents the output from being displayed\u001b[39;00m\n\u001b[1;32m   2481\u001b[0m \u001b[38;5;66;03m# when using magics with decodator @output_can_be_silenced\u001b[39;00m\n\u001b[1;32m   2482\u001b[0m \u001b[38;5;66;03m# when the last Python token in the expression is a ';'.\u001b[39;00m\n\u001b[1;32m   2483\u001b[0m \u001b[38;5;28;01mif\u001b[39;00m \u001b[38;5;28mgetattr\u001b[39m(fn, magic\u001b[38;5;241m.\u001b[39mMAGIC_OUTPUT_CAN_BE_SILENCED, \u001b[38;5;28;01mFalse\u001b[39;00m):\n",
      "File \u001b[0;32m~/.conda/envs/cb_checkatlas/lib/python3.10/site-packages/IPython/core/magics/script.py:154\u001b[0m, in \u001b[0;36mScriptMagics._make_script_magic.<locals>.named_script_magic\u001b[0;34m(line, cell)\u001b[0m\n\u001b[1;32m    152\u001b[0m \u001b[38;5;28;01melse\u001b[39;00m:\n\u001b[1;32m    153\u001b[0m     line \u001b[38;5;241m=\u001b[39m script\n\u001b[0;32m--> 154\u001b[0m \u001b[38;5;28;01mreturn\u001b[39;00m \u001b[38;5;28;43mself\u001b[39;49m\u001b[38;5;241;43m.\u001b[39;49m\u001b[43mshebang\u001b[49m\u001b[43m(\u001b[49m\u001b[43mline\u001b[49m\u001b[43m,\u001b[49m\u001b[43m \u001b[49m\u001b[43mcell\u001b[49m\u001b[43m)\u001b[49m\n",
      "File \u001b[0;32m~/.conda/envs/cb_checkatlas/lib/python3.10/site-packages/IPython/core/magics/script.py:314\u001b[0m, in \u001b[0;36mScriptMagics.shebang\u001b[0;34m(self, line, cell)\u001b[0m\n\u001b[1;32m    309\u001b[0m \u001b[38;5;28;01mif\u001b[39;00m args\u001b[38;5;241m.\u001b[39mraise_error \u001b[38;5;129;01mand\u001b[39;00m p\u001b[38;5;241m.\u001b[39mreturncode \u001b[38;5;241m!=\u001b[39m \u001b[38;5;241m0\u001b[39m:\n\u001b[1;32m    310\u001b[0m     \u001b[38;5;66;03m# If we get here and p.returncode is still None, we must have\u001b[39;00m\n\u001b[1;32m    311\u001b[0m     \u001b[38;5;66;03m# killed it but not yet seen its return code. We don't wait for it,\u001b[39;00m\n\u001b[1;32m    312\u001b[0m     \u001b[38;5;66;03m# in case it's stuck in uninterruptible sleep. -9 = SIGKILL\u001b[39;00m\n\u001b[1;32m    313\u001b[0m     rc \u001b[38;5;241m=\u001b[39m p\u001b[38;5;241m.\u001b[39mreturncode \u001b[38;5;129;01mor\u001b[39;00m \u001b[38;5;241m-\u001b[39m\u001b[38;5;241m9\u001b[39m\n\u001b[0;32m--> 314\u001b[0m     \u001b[38;5;28;01mraise\u001b[39;00m CalledProcessError(rc, cell)\n",
      "\u001b[0;31mCalledProcessError\u001b[0m: Command 'b'nextflow run nf-core-checkatlas -r dev --path /data/analysis/data_becavin/checkatlas_test/tuto/atlas_data1\\n'' returned non-zero exit status 1."
     ]
    }
   ],
   "source": [
    "%%bash\n",
    "nextflow run nf-core-checkatlas -r dev --path /data/analysis/data_becavin/checkatlas_test/tuto/atlas_data"
   ]
  },
  {
   "cell_type": "markdown",
   "id": "68097bb9-65c2-47ea-9ba9-c578e04d1ac9",
   "metadata": {},
   "source": [
    "## Open MultiQC report"
   ]
  },
  {
   "cell_type": "markdown",
   "id": "bce53dd7-28ba-4a19-9479-19d1d37517a5",
   "metadata": {},
   "source": [
    "Once checkatlas has been run, all tables and fig and html reports can be found in the checkatlas_files folder. \n",
    "**The MultiQC html summary files is in checkatlas_files/Checkatlas_MultiQC.html**"
   ]
  },
  {
   "cell_type": "code",
   "execution_count": 2,
   "id": "2459b761-1fec-4c84-9ccc-e488b10a061c",
   "metadata": {},
   "outputs": [
    {
     "data": {
      "text/html": [
       "\n",
       "        <iframe\n",
       "            width=\"100%\"\n",
       "            height=\"500px\"\n",
       "            src=\"data1/checkatlas_files/Checkatlas_MultiQC.html\"\n",
       "            frameborder=\"0\"\n",
       "            allowfullscreen\n",
       "            \n",
       "        ></iframe>\n",
       "        "
      ],
      "text/plain": [
       "<IPython.lib.display.IFrame at 0x7fb21b9f2f20>"
      ]
     },
     "execution_count": 2,
     "metadata": {},
     "output_type": "execute_result"
    }
   ],
   "source": [
    "from IPython.display import IFrame\n",
    "\n",
    "IFrame(\n",
    "    src=\"data1/checkatlas_files/Checkatlas_MultiQC.html\",\n",
    "    width=\"100%\",\n",
    "    height=\"500px\",\n",
    ")"
   ]
  }
 ],
 "metadata": {
  "kernelspec": {
   "display_name": "Python 3 (ipykernel)",
   "language": "python",
   "name": "python3"
  },
  "language_info": {
   "codemirror_mode": {
    "name": "ipython",
    "version": 3
   },
   "file_extension": ".py",
   "mimetype": "text/x-python",
   "name": "python",
   "nbconvert_exporter": "python",
   "pygments_lexer": "ipython3",
   "version": "3.10.12"
  }
 },
 "nbformat": 4,
 "nbformat_minor": 5
}
